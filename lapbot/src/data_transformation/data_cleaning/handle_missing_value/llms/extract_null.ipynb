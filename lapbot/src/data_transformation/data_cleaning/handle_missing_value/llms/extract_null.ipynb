{
 "cells": [
  {
   "cell_type": "code",
   "execution_count": 1,
   "id": "98b351fa",
   "metadata": {},
   "outputs": [],
   "source": [
    "import numpy as np\n",
    "import pandas as pd\n",
    "import re"
   ]
  },
  {
   "cell_type": "code",
   "execution_count": 29,
   "id": "64ecca2c",
   "metadata": {},
   "outputs": [],
   "source": [
    "df = pd.read_csv('data/laptop_merge_v1.csv')"
   ]
  },
  {
   "cell_type": "code",
   "execution_count": 36,
   "id": "e3339f12",
   "metadata": {},
   "outputs": [
    {
     "data": {
      "text/plain": [
       "(1353, 40)"
      ]
     },
     "execution_count": 36,
     "metadata": {},
     "output_type": "execute_result"
    }
   ],
   "source": [
    "df.shape"
   ]
  },
  {
   "cell_type": "code",
   "execution_count": 30,
   "id": "7c583ff0",
   "metadata": {},
   "outputs": [],
   "source": [
    "df_null = df[df.isnull().any(axis=1)]"
   ]
  },
  {
   "cell_type": "code",
   "execution_count": 31,
   "id": "8cbc77f3",
   "metadata": {},
   "outputs": [
    {
     "data": {
      "text/plain": [
       "(1225, 40)"
      ]
     },
     "execution_count": 31,
     "metadata": {},
     "output_type": "execute_result"
    }
   ],
   "source": [
    "df_null.shape"
   ]
  },
  {
   "cell_type": "code",
   "execution_count": 32,
   "id": "c04bf3b0",
   "metadata": {},
   "outputs": [
    {
     "data": {
      "text/plain": [
       "Index(['cam_ung', 'height_mm', 'url_path', 'material', 'storage_max_support',\n",
       "       'storage_gb', 'display_width', 'bluetooth_version', 'width_mm',\n",
       "       'manufacturer', 'cpu_max_speed', 'root_price', 'cpu_threads',\n",
       "       'cpu_cores', 'ram_speed', 'product_weight', 'discounted_price',\n",
       "       'ram_type', 'refresh_rate', 'cpu_speed', 'name', 'ram_storage',\n",
       "       'is_installment', 'ram_slots', 'os_version', 'battery_capacity',\n",
       "       'laptop_color', 'cpu_model', 'nhu_cau_su_dung', 'vga_type', 'depth_mm',\n",
       "       'image', 'vga_brand', 'product_id', 'cpu_series', 'display_height',\n",
       "       'vga_vram', 'laptop_camera', 'display_size', 'cpu_brand'],\n",
       "      dtype='object')"
      ]
     },
     "execution_count": 32,
     "metadata": {},
     "output_type": "execute_result"
    }
   ],
   "source": [
    "df_null.columns"
   ]
  },
  {
   "cell_type": "code",
   "execution_count": 35,
   "id": "37ee3980",
   "metadata": {},
   "outputs": [
    {
     "data": {
      "text/plain": [
       "cam_ung                  0\n",
       "height_mm               90\n",
       "url_path                 0\n",
       "material                 0\n",
       "storage_max_support      0\n",
       "storage_gb               0\n",
       "display_width            0\n",
       "bluetooth_version        0\n",
       "width_mm                83\n",
       "manufacturer             0\n",
       "cpu_max_speed          417\n",
       "root_price             353\n",
       "cpu_threads            642\n",
       "cpu_cores              160\n",
       "ram_speed              150\n",
       "product_weight           0\n",
       "discounted_price       260\n",
       "ram_type               113\n",
       "refresh_rate           409\n",
       "cpu_speed              566\n",
       "name                     0\n",
       "ram_storage              0\n",
       "is_installment           0\n",
       "ram_slots              117\n",
       "os_version               0\n",
       "battery_capacity       122\n",
       "laptop_color             0\n",
       "cpu_model              283\n",
       "nhu_cau_su_dung          0\n",
       "vga_type                13\n",
       "depth_mm               102\n",
       "image                    0\n",
       "vga_brand                0\n",
       "product_id               0\n",
       "cpu_series               0\n",
       "display_height           0\n",
       "vga_vram               985\n",
       "laptop_camera           79\n",
       "display_size             0\n",
       "cpu_brand                0\n",
       "dtype: int64"
      ]
     },
     "execution_count": 35,
     "metadata": {},
     "output_type": "execute_result"
    }
   ],
   "source": [
    "df_null.isnull().sum()"
   ]
  },
  {
   "cell_type": "code",
   "execution_count": null,
   "id": "ee54d3c2",
   "metadata": {},
   "outputs": [],
   "source": [
    "null_cols = df_null.columns[df_null.isnull().any()].tolist()\n",
    "cols_to_keep = ['product_id', 'name', 'manufacturer'] + [col for col in null_cols if col not in ['product_id', 'name', 'manufacturer']]\n",
    "df_null_filtered = df_null[cols_to_keep]"
   ]
  },
  {
   "cell_type": "code",
   "execution_count": 43,
   "id": "b19005a1",
   "metadata": {},
   "outputs": [],
   "source": [
    "rename_map = {\n",
    "    'height_mm': 'laptop_height_mm',\n",
    "    'width_mm': 'laptop_width_mm',\n",
    "    'cpu_max_speed': 'cpu_boost_clock_ghz',\n",
    "    'refresh_rate': 'refresh_rate_hz',\n",
    "    'cpu_speed': 'cpu_base_clock_ghz',\n",
    "    'battery_capacity': 'battery_capacity_wh',\n",
    "    'depth_mm': 'laptop_depth_mm',\n",
    "    'vga_vram': 'vga_vram_gb',\n",
    "    'root_price': 'root_price_vnd',\n",
    "    'discounted_price': 'discounted_price_vnd'\n",
    "}"
   ]
  },
  {
   "cell_type": "code",
   "execution_count": 44,
   "id": "fc388d1d",
   "metadata": {},
   "outputs": [],
   "source": [
    "df_null_filtered = df_null_filtered.rename(columns=rename_map)"
   ]
  },
  {
   "cell_type": "code",
   "execution_count": 45,
   "id": "96cc1ab0",
   "metadata": {},
   "outputs": [
    {
     "data": {
      "text/plain": [
       "['product_id',\n",
       " 'name',\n",
       " 'manufacturer',\n",
       " 'laptop_height_mm',\n",
       " 'laptop_width_mm',\n",
       " 'cpu_boost_clock_ghz',\n",
       " 'root_price_vnd',\n",
       " 'cpu_threads',\n",
       " 'cpu_cores',\n",
       " 'ram_speed',\n",
       " 'discounted_price_vnd',\n",
       " 'ram_type',\n",
       " 'refresh_rate_hz',\n",
       " 'cpu_base_clock_ghz',\n",
       " 'ram_slots',\n",
       " 'battery_capacity_wh',\n",
       " 'cpu_model',\n",
       " 'vga_type',\n",
       " 'laptop_depth_mm',\n",
       " 'vga_vram_gb',\n",
       " 'laptop_camera']"
      ]
     },
     "execution_count": 45,
     "metadata": {},
     "output_type": "execute_result"
    }
   ],
   "source": [
    "df_null_filtered.columns.tolist()"
   ]
  },
  {
   "cell_type": "code",
   "execution_count": 48,
   "id": "7a096422",
   "metadata": {},
   "outputs": [],
   "source": [
    "df_null_filtered.to_csv('data/laptop_info_null.csv', index=False)\n"
   ]
  },
  {
   "cell_type": "code",
   "execution_count": 49,
   "id": "e5efa6e3",
   "metadata": {},
   "outputs": [
    {
     "data": {
      "text/html": [
       "<div>\n",
       "<style scoped>\n",
       "    .dataframe tbody tr th:only-of-type {\n",
       "        vertical-align: middle;\n",
       "    }\n",
       "\n",
       "    .dataframe tbody tr th {\n",
       "        vertical-align: top;\n",
       "    }\n",
       "\n",
       "    .dataframe thead th {\n",
       "        text-align: right;\n",
       "    }\n",
       "</style>\n",
       "<table border=\"1\" class=\"dataframe\">\n",
       "  <thead>\n",
       "    <tr style=\"text-align: right;\">\n",
       "      <th></th>\n",
       "      <th>Column name</th>\n",
       "      <th>Data example</th>\n",
       "      <th>Data_type</th>\n",
       "    </tr>\n",
       "  </thead>\n",
       "  <tbody>\n",
       "    <tr>\n",
       "      <th>0</th>\n",
       "      <td>product_id</td>\n",
       "      <td>0220042002563__l66_20250402-105034</td>\n",
       "      <td>object</td>\n",
       "    </tr>\n",
       "    <tr>\n",
       "      <th>1</th>\n",
       "      <td>name</td>\n",
       "      <td>Laptop Lenovo Ideapad Slim 3 15IRH8 i7 13620H/...</td>\n",
       "      <td>object</td>\n",
       "    </tr>\n",
       "    <tr>\n",
       "      <th>2</th>\n",
       "      <td>manufacturer</td>\n",
       "      <td>lenovo</td>\n",
       "      <td>object</td>\n",
       "    </tr>\n",
       "    <tr>\n",
       "      <th>3</th>\n",
       "      <td>laptop_height_mm</td>\n",
       "      <td>235.0</td>\n",
       "      <td>float64</td>\n",
       "    </tr>\n",
       "    <tr>\n",
       "      <th>4</th>\n",
       "      <td>laptop_width_mm</td>\n",
       "      <td>359.3</td>\n",
       "      <td>float64</td>\n",
       "    </tr>\n",
       "    <tr>\n",
       "      <th>5</th>\n",
       "      <td>cpu_boost_clock_ghz</td>\n",
       "      <td>4.9</td>\n",
       "      <td>float64</td>\n",
       "    </tr>\n",
       "    <tr>\n",
       "      <th>6</th>\n",
       "      <td>root_price_vnd</td>\n",
       "      <td>19490000.0</td>\n",
       "      <td>float64</td>\n",
       "    </tr>\n",
       "    <tr>\n",
       "      <th>7</th>\n",
       "      <td>cpu_threads</td>\n",
       "      <td>16.0</td>\n",
       "      <td>float64</td>\n",
       "    </tr>\n",
       "    <tr>\n",
       "      <th>8</th>\n",
       "      <td>cpu_cores</td>\n",
       "      <td>10.0</td>\n",
       "      <td>float64</td>\n",
       "    </tr>\n",
       "    <tr>\n",
       "      <th>9</th>\n",
       "      <td>ram_speed</td>\n",
       "      <td>4800.0</td>\n",
       "      <td>float64</td>\n",
       "    </tr>\n",
       "    <tr>\n",
       "      <th>10</th>\n",
       "      <td>discounted_price_vnd</td>\n",
       "      <td>18190000.0</td>\n",
       "      <td>float64</td>\n",
       "    </tr>\n",
       "    <tr>\n",
       "      <th>11</th>\n",
       "      <td>ram_type</td>\n",
       "      <td>lpddr5</td>\n",
       "      <td>object</td>\n",
       "    </tr>\n",
       "    <tr>\n",
       "      <th>12</th>\n",
       "      <td>refresh_rate_hz</td>\n",
       "      <td>60.0</td>\n",
       "      <td>float64</td>\n",
       "    </tr>\n",
       "    <tr>\n",
       "      <th>13</th>\n",
       "      <td>cpu_base_clock_ghz</td>\n",
       "      <td>2.4</td>\n",
       "      <td>float64</td>\n",
       "    </tr>\n",
       "    <tr>\n",
       "      <th>14</th>\n",
       "      <td>ram_slots</td>\n",
       "      <td>0.0</td>\n",
       "      <td>float64</td>\n",
       "    </tr>\n",
       "    <tr>\n",
       "      <th>15</th>\n",
       "      <td>battery_capacity_wh</td>\n",
       "      <td>47.0</td>\n",
       "      <td>float64</td>\n",
       "    </tr>\n",
       "    <tr>\n",
       "      <th>16</th>\n",
       "      <td>cpu_model</td>\n",
       "      <td>13620h</td>\n",
       "      <td>object</td>\n",
       "    </tr>\n",
       "    <tr>\n",
       "      <th>17</th>\n",
       "      <td>vga_type</td>\n",
       "      <td>card tích hợp</td>\n",
       "      <td>object</td>\n",
       "    </tr>\n",
       "    <tr>\n",
       "      <th>18</th>\n",
       "      <td>laptop_depth_mm</td>\n",
       "      <td>17.9</td>\n",
       "      <td>float64</td>\n",
       "    </tr>\n",
       "    <tr>\n",
       "      <th>19</th>\n",
       "      <td>vga_vram_gb</td>\n",
       "      <td>4.0</td>\n",
       "      <td>float64</td>\n",
       "    </tr>\n",
       "    <tr>\n",
       "      <th>20</th>\n",
       "      <td>laptop_camera</td>\n",
       "      <td>HD</td>\n",
       "      <td>object</td>\n",
       "    </tr>\n",
       "  </tbody>\n",
       "</table>\n",
       "</div>"
      ],
      "text/plain": [
       "             Column name                                       Data example  \\\n",
       "0             product_id                 0220042002563__l66_20250402-105034   \n",
       "1                   name  Laptop Lenovo Ideapad Slim 3 15IRH8 i7 13620H/...   \n",
       "2           manufacturer                                             lenovo   \n",
       "3       laptop_height_mm                                              235.0   \n",
       "4        laptop_width_mm                                              359.3   \n",
       "5    cpu_boost_clock_ghz                                                4.9   \n",
       "6         root_price_vnd                                         19490000.0   \n",
       "7            cpu_threads                                               16.0   \n",
       "8              cpu_cores                                               10.0   \n",
       "9              ram_speed                                             4800.0   \n",
       "10  discounted_price_vnd                                         18190000.0   \n",
       "11              ram_type                                             lpddr5   \n",
       "12       refresh_rate_hz                                               60.0   \n",
       "13    cpu_base_clock_ghz                                                2.4   \n",
       "14             ram_slots                                                0.0   \n",
       "15   battery_capacity_wh                                               47.0   \n",
       "16             cpu_model                                             13620h   \n",
       "17              vga_type                                      card tích hợp   \n",
       "18       laptop_depth_mm                                               17.9   \n",
       "19           vga_vram_gb                                                4.0   \n",
       "20         laptop_camera                                                 HD   \n",
       "\n",
       "   Data_type  \n",
       "0     object  \n",
       "1     object  \n",
       "2     object  \n",
       "3    float64  \n",
       "4    float64  \n",
       "5    float64  \n",
       "6    float64  \n",
       "7    float64  \n",
       "8    float64  \n",
       "9    float64  \n",
       "10   float64  \n",
       "11    object  \n",
       "12   float64  \n",
       "13   float64  \n",
       "14   float64  \n",
       "15   float64  \n",
       "16    object  \n",
       "17    object  \n",
       "18   float64  \n",
       "19   float64  \n",
       "20    object  "
      ]
     },
     "execution_count": 49,
     "metadata": {},
     "output_type": "execute_result"
    }
   ],
   "source": [
    "overview_null = pd.DataFrame ({\n",
    "    'Column name': df_null_filtered.columns,\n",
    "    'Data example': [df_null_filtered[col].dropna().iloc[0]if df_null_filtered[col].notna().any() else None for col in df_null_filtered.columns],\n",
    "    'Data_type': [df_null_filtered[col].dtype for col in df_null_filtered.columns]\n",
    "})\n",
    "overview_null.reset_index(drop=True, inplace=True)\n",
    "overview_null"
   ]
  }
 ],
 "metadata": {
  "kernelspec": {
   "display_name": "Python 3",
   "language": "python",
   "name": "python3"
  },
  "language_info": {
   "codemirror_mode": {
    "name": "ipython",
    "version": 3
   },
   "file_extension": ".py",
   "mimetype": "text/x-python",
   "name": "python",
   "nbconvert_exporter": "python",
   "pygments_lexer": "ipython3",
   "version": "3.9.6"
  }
 },
 "nbformat": 4,
 "nbformat_minor": 5
}
